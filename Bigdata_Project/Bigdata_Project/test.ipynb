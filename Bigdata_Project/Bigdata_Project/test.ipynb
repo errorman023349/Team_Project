{
 "cells": [
  {
   "cell_type": "code",
   "execution_count": 1,
   "metadata": {},
   "outputs": [],
   "source": [
    "from Youtube_URL import get_url"
   ]
  },
  {
   "cell_type": "code",
   "execution_count": 3,
   "metadata": {},
   "outputs": [
    {
     "data": {
      "text/plain": [
       "['https://www.youtube.com/watch?v=3r1QuaGyMHk',\n",
       " 'https://www.youtube.com/watch?v=-hq_IvhooTE',\n",
       " 'https://www.youtube.com/watch?v=2bFUjYCyw4k',\n",
       " 'https://www.youtube.com/watch?v=nztiGQ3M9C0',\n",
       " 'https://www.youtube.com/watch?v=MmN9wMLelsw',\n",
       " 'https://www.youtube.com/watch?v=HybH_7TN30k',\n",
       " 'https://www.youtube.com/watch?v=O2XZD8TPIjc',\n",
       " 'https://www.youtube.com/watch?v=tJv9OirUoJ8',\n",
       " 'https://www.youtube.com/watch?v=CbcpWGeM-Hg',\n",
       " 'https://www.youtube.com/watch?v=dtw6zTdPwhc',\n",
       " 'https://www.youtube.com/watch?v=IwKHtvOi2UU',\n",
       " 'https://www.youtube.com/watch?v=sXI48TfBTbo',\n",
       " 'https://www.youtube.com/watch?v=hRFx4Ej3UH0',\n",
       " 'https://www.youtube.com/watch?v=XU8psFUf97I',\n",
       " 'https://www.youtube.com/watch?v=SYJCIKcL5K8',\n",
       " 'https://www.youtube.com/watch?v=I8xURNpx8Ro',\n",
       " 'https://www.youtube.com/watch?v=D6LwxdMNA4E',\n",
       " 'https://www.youtube.com/watch?v=gt3KfHIzyV8',\n",
       " 'https://www.youtube.com/watch?v=X6lSD69dg18',\n",
       " 'https://www.youtube.com/watch?v=4tXltjF5YIM']"
      ]
     },
     "execution_count": 3,
     "metadata": {},
     "output_type": "execute_result"
    }
   ],
   "source": [
    "get_url('이영표',20)"
   ]
  },
  {
   "cell_type": "code",
   "execution_count": null,
   "metadata": {},
   "outputs": [],
   "source": []
  }
 ],
 "metadata": {
  "kernelspec": {
   "display_name": "Python 3",
   "language": "python",
   "name": "python3"
  },
  "language_info": {
   "codemirror_mode": {
    "name": "ipython",
    "version": 3
   },
   "file_extension": ".py",
   "mimetype": "text/x-python",
   "name": "python",
   "nbconvert_exporter": "python",
   "pygments_lexer": "ipython3",
   "version": "3.7.6"
  }
 },
 "nbformat": 4,
 "nbformat_minor": 4
}
